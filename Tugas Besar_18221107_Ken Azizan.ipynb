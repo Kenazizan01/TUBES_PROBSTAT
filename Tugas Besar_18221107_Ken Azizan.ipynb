{
 "cells": [
  {
   "cell_type": "code",
   "execution_count": 3,
   "id": "67d99331-163f-4ace-9cc4-bea7f473b7b8",
   "metadata": {},
   "outputs": [],
   "source": [
    "import pandas as pd\n",
    "import seaborn as sns\n",
    "import matplotlib.pyplot as plt\n",
    "import scipy.stats as st\n",
    "import statsmodels.api as sm\n",
    "from statsmodels.formula.api import ols"
   ]
  },
  {
   "cell_type": "code",
   "execution_count": 4,
   "id": "dfafec53-b88d-49f2-91e3-1ab73d14ff90",
   "metadata": {},
   "outputs": [],
   "source": [
    "from scipy.stats import norm\n",
    "from scipy.stats import f_oneway\n",
    "sns.set_style('darkgrid')"
   ]
  },
  {
   "cell_type": "markdown",
   "id": "597772fb-1c45-4fea-a0e6-59e3aae94a0e",
   "metadata": {},
   "source": [
    "# TUBES PROBSTAT\n",
    " NAMA      : Ken Azizan\\n\n",
    " KELAS     : K1\\n\n",
    " NIM       : 18221107\\n\n",
    " JURUSAN   : STI - GANESHA\\n\n",
    " DOSEN     : DIMITRI MAHAYANA\\n"
   ]
  },
  {
   "cell_type": "code",
   "execution_count": 5,
   "id": "64a1f0aa-5524-4a1b-b23d-149e4c1ca63f",
   "metadata": {},
   "outputs": [],
   "source": [
    "df = pd.read_excel('18221107.xlsx')"
   ]
  },
  {
   "cell_type": "markdown",
   "id": "d3e066fc-9897-4c1a-92cd-7006c67cc69b",
   "metadata": {},
   "source": [
    "# DATA CLEANSING\n",
    "menghapus semua orang yang berusia diatas 100"
   ]
  },
  {
   "cell_type": "code",
   "execution_count": 6,
   "id": "1a8b1004-990f-4057-9636-6c940a173aa3",
   "metadata": {},
   "outputs": [],
   "source": [
    "df.drop(df.loc[df[\"Usia\"] > 100].index, inplace = True)"
   ]
  },
  {
   "cell_type": "markdown",
   "id": "4739ec84-9592-464a-8973-ed89d2048942",
   "metadata": {
    "tags": []
   },
   "source": [
    "# ENUMERATE"
   ]
  },
  {
   "cell_type": "code",
   "execution_count": 214,
   "id": "548504ca-3813-4a18-8522-edbcb57026cc",
   "metadata": {},
   "outputs": [],
   "source": [
    "pd.DataFrame(enumerate(df.columns)).to_excel('col tubes.xlsx')"
   ]
  },
  {
   "cell_type": "markdown",
   "id": "ee5981d0-d1f3-42d3-8dcc-42ae26b149e3",
   "metadata": {},
   "source": [
    "## NOMOR 1\n",
    "menampilkan Buat bar chart / pie chart/ donut chart yang menunjukkan perbedaan frekuensi /\n",
    "proporsi jenis kelamin responden."
   ]
  },
  {
   "cell_type": "code",
   "execution_count": 7,
   "id": "f505908e-05bb-439c-b660-3e077bdcb917",
   "metadata": {},
   "outputs": [
    {
     "data": {
      "text/plain": [
       "<AxesSubplot:ylabel='Jenis Kelamin'>"
      ]
     },
     "execution_count": 7,
     "metadata": {},
     "output_type": "execute_result"
    },
    {
     "data": {
      "image/png": "[encoded data removed]",
      "text/plain": [
       "<Figure size 432x288 with 1 Axes>"
      ]
     },
     "metadata": {},
     "output_type": "display_data"
    }
   ],
   "source": [
    "df[\"Jenis Kelamin\"].value_counts().plot(kind=\"pie\",autopct = '%1.2f%%')"
   ]
  },
  {
   "cell_type": "markdown",
   "id": "bcf593d0-b6e2-45b5-9f0d-e5f3fd72f6e1",
   "metadata": {},
   "source": [
    "## NOMOR 2\n",
    "Buat tabel frekuensi dan proporsi untuk jenis kelamin responden"
   ]
  },
  {
   "cell_type": "code",
   "execution_count": 8,
   "id": "0262037a-8c8b-45d6-bc67-e7e451aeadb8",
   "metadata": {},
   "outputs": [
    {
     "data": {
      "text/html": [
       "<div>\n",
       "<style scoped>\n",
       "    .dataframe tbody tr th:only-of-type {\n",
       "        vertical-align: middle;\n",
       "    }\n",
       "\n",
       "    .dataframe tbody tr th {\n",
       "        vertical-align: top;\n",
       "    }\n",
       "\n",
       "    .dataframe thead th {\n",
       "        text-align: right;\n",
       "    }\n",
       "</style>\n",
       "<table border=\"1\" class=\"dataframe\">\n",
       "  <thead>\n",
       "    <tr style=\"text-align: right;\">\n",
       "      <th></th>\n",
       "      <th>Frekuensi</th>\n",
       "      <th>Proporsi</th>\n",
       "    </tr>\n",
       "    <tr>\n",
       "      <th>Jenis Kelamin</th>\n",
       "      <th></th>\n",
       "      <th></th>\n",
       "    </tr>\n",
       "  </thead>\n",
       "  <tbody>\n",
       "    <tr>\n",
       "      <th>Wanita</th>\n",
       "      <td>164</td>\n",
       "      <td>0.550336</td>\n",
       "    </tr>\n",
       "    <tr>\n",
       "      <th>Pria</th>\n",
       "      <td>133</td>\n",
       "      <td>0.446309</td>\n",
       "    </tr>\n",
       "  </tbody>\n",
       "</table>\n",
       "</div>"
      ],
      "text/plain": [
       "               Frekuensi  Proporsi\n",
       "Jenis Kelamin                     \n",
       "Wanita               164  0.550336\n",
       "Pria                 133  0.446309"
      ]
     },
     "execution_count": 8,
     "metadata": {},
     "output_type": "execute_result"
    }
   ],
   "source": [
    "djeniskelamin = df['Jenis Kelamin'].value_counts()\n",
    "djeniskelamin_p = (df['Jenis Kelamin'].value_counts()/len(df))\n",
    "djeniskelamin = pd.concat([djeniskelamin, djeniskelamin_p], axis = 1)\n",
    "djeniskelamin.columns = ['Frekuensi', 'Proporsi']\n",
    "djeniskelamin.index.name = \"Jenis Kelamin\"\n",
    "djeniskelamin"
   ]
  },
  {
   "cell_type": "markdown",
   "id": "6e3b0897-96d3-4e06-b1e8-32cd04cadcce",
   "metadata": {},
   "source": [
    "## NOMOR 3\n",
    "Buat histogram untuk data umur responden."
   ]
  },
  {
   "cell_type": "code",
   "execution_count": 9,
   "id": "acae53c5-17af-4b1c-a5f1-622e0e1603af",
   "metadata": {},
   "outputs": [
    {
     "data": {
      "image/png": "[encoded data removed]",
      "text/plain": [
       "<Figure size 432x288 with 1 Axes>"
      ]
     },
     "metadata": {},
     "output_type": "display_data"
    }
   ],
   "source": [
    "sns.histplot (data = df, x = 'Usia', bins = 10, color = \"plum\")\n",
    "plt.show()"
   ]
  },
  {
   "cell_type": "markdown",
   "id": "adb55620-cc23-4396-9714-ad245980e232",
   "metadata": {},
   "source": [
    "## NOMOR 4 \n",
    "Buat boxplot untuk data umur responden."
   ]
  },
  {
   "cell_type": "code",
   "execution_count": 10,
   "id": "8d7da295-ae56-4506-bc93-3588ae829390",
   "metadata": {},
   "outputs": [
    {
     "data": {
      "image/png": "[encoded data removed]",
      "text/plain": [
       "<Figure size 720x72 with 1 Axes>"
      ]
     },
     "metadata": {},
     "output_type": "display_data"
    }
   ],
   "source": [
    "plt.figure(figsize = (10,1))\n",
    "sns.boxplot(data = df, x = 'Usia', color = 'plum')\n",
    "plt.show()"
   ]
  },
  {
   "cell_type": "markdown",
   "id": "3c370779-35a2-435c-bc9b-03809b86b9b9",
   "metadata": {},
   "source": [
    "## NOMOR 5\n",
    "Identifikasi nilai mean, Q1, Q2/median, Q3, min, max dari data umur responden."
   ]
  },
  {
   "cell_type": "code",
   "execution_count": 11,
   "id": "a18d80f8-d12a-4528-a3dd-e3227c3c270e",
   "metadata": {},
   "outputs": [
    {
     "data": {
      "text/plain": [
       "(19.0, 22.0, 45.0, 76.0, 16.0)"
      ]
     },
     "execution_count": 11,
     "metadata": {},
     "output_type": "execute_result"
    }
   ],
   "source": [
    "q1 = df[\"Usia\"].quantile(0.25)\n",
    "q2 = df[\"Usia\"].quantile(0.5)\n",
    "q3 = df[\"Usia\"].quantile(0.75)\n",
    "maks = df[\"Usia\"].max()\n",
    "minimum = df[\"Usia\"].min()\n",
    "q1,q2,q3,maks,minimum"
   ]
  },
  {
   "cell_type": "markdown",
   "id": "e05e628f-89a6-4df3-ace1-f1a19f437311",
   "metadata": {},
   "source": [
    "## NOMOR 6\n",
    "Apakah terdapat outlier pada data umur responden. (Definisi outlier : < Q1 – 1.5 IQR\n",
    "atau > Q3 + 1.5 IQR; IQR = Q3 – Q1)"
   ]
  },
  {
   "cell_type": "code",
   "execution_count": 12,
   "id": "f2771184-01f4-4cd4-b1b4-26288fa2daf4",
   "metadata": {},
   "outputs": [
    {
     "data": {
      "text/plain": [
       "'Outlier: <-20.0, > 84.0'"
      ]
     },
     "execution_count": 12,
     "metadata": {},
     "output_type": "execute_result"
    }
   ],
   "source": [
    "iqr = q3 - q1\n",
    "f'Outlier: <{q1 - 1.5 * iqr}, > {q3 + 1.5 * iqr}'\n",
    "#tidak ada data usia yang merupakan outlier, sehingga tidak perlu difiltering"
   ]
  },
  {
   "cell_type": "markdown",
   "id": "cacaa723-751d-42fd-aa7e-c2db5236431e",
   "metadata": {},
   "source": [
    "## NOMOR 7\n",
    "Buat bar chart / pie chart/ donut chart yang menunjukkan perbedaan frekuensi /\n",
    "proporsi profesi responden"
   ]
  },
  {
   "cell_type": "code",
   "execution_count": 13,
   "id": "9fae8fac-ced5-4292-b1d7-365018d8bb69",
   "metadata": {},
   "outputs": [
    {
     "data": {
      "text/plain": [
       "<AxesSubplot:xlabel='Frekuensi', ylabel='Pekerjaan'>"
      ]
     },
     "execution_count": 13,
     "metadata": {},
     "output_type": "execute_result"
    },
    {
     "data": {
      "image/png": "[encoded data removed]",
      "text/plain": [
       "<Figure size 432x288 with 1 Axes>"
      ]
     },
     "metadata": {},
     "output_type": "display_data"
    }
   ],
   "source": [
    "bar = df.groupby([\"Pekerjaan\"])[\"Pekerjaan\"].size().plot(kind = \"barh\", color = \"plum\")\n",
    "bar.set_xlabel(\"Frekuensi\")\n",
    "bar"
   ]
  },
  {
   "cell_type": "markdown",
   "id": "a8512caf-3e67-4066-a665-80d3f48f9752",
   "metadata": {},
   "source": [
    "## NOMOR 8\n",
    "Buat tabel frekuensi dan proporsi untuk profesi responden"
   ]
  },
  {
   "cell_type": "code",
   "execution_count": 14,
   "id": "6618f86a-7ac3-4cad-8267-ca947a985670",
   "metadata": {},
   "outputs": [
    {
     "data": {
      "text/html": [
       "<div>\n",
       "<style scoped>\n",
       "    .dataframe tbody tr th:only-of-type {\n",
       "        vertical-align: middle;\n",
       "    }\n",
       "\n",
       "    .dataframe tbody tr th {\n",
       "        vertical-align: top;\n",
       "    }\n",
       "\n",
       "    .dataframe thead th {\n",
       "        text-align: right;\n",
       "    }\n",
       "</style>\n",
       "<table border=\"1\" class=\"dataframe\">\n",
       "  <thead>\n",
       "    <tr style=\"text-align: right;\">\n",
       "      <th></th>\n",
       "      <th>Frekuensi</th>\n",
       "      <th>Proporsi</th>\n",
       "    </tr>\n",
       "    <tr>\n",
       "      <th>Pekerjaan</th>\n",
       "      <th></th>\n",
       "      <th></th>\n",
       "    </tr>\n",
       "  </thead>\n",
       "  <tbody>\n",
       "    <tr>\n",
       "      <th>Pelajar / Mahasiswa</th>\n",
       "      <td>150</td>\n",
       "      <td>0.503356</td>\n",
       "    </tr>\n",
       "    <tr>\n",
       "      <th>Karyawan Swasta</th>\n",
       "      <td>58</td>\n",
       "      <td>0.194631</td>\n",
       "    </tr>\n",
       "    <tr>\n",
       "      <th>Ibu Rumah Tangga</th>\n",
       "      <td>22</td>\n",
       "      <td>0.073826</td>\n",
       "    </tr>\n",
       "    <tr>\n",
       "      <th>Pengusaha</th>\n",
       "      <td>21</td>\n",
       "      <td>0.070470</td>\n",
       "    </tr>\n",
       "    <tr>\n",
       "      <th>Pegawai Negeri</th>\n",
       "      <td>15</td>\n",
       "      <td>0.050336</td>\n",
       "    </tr>\n",
       "    <tr>\n",
       "      <th>Profesional ( Dokter, Dosen, Pengacara, dll)</th>\n",
       "      <td>13</td>\n",
       "      <td>0.043624</td>\n",
       "    </tr>\n",
       "    <tr>\n",
       "      <th>Karyawan BUMN</th>\n",
       "      <td>4</td>\n",
       "      <td>0.013423</td>\n",
       "    </tr>\n",
       "    <tr>\n",
       "      <th>Guru</th>\n",
       "      <td>3</td>\n",
       "      <td>0.010067</td>\n",
       "    </tr>\n",
       "    <tr>\n",
       "      <th>Wiraswasta</th>\n",
       "      <td>2</td>\n",
       "      <td>0.006711</td>\n",
       "    </tr>\n",
       "    <tr>\n",
       "      <th>Freelance</th>\n",
       "      <td>2</td>\n",
       "      <td>0.006711</td>\n",
       "    </tr>\n",
       "    <tr>\n",
       "      <th>Pensiunan</th>\n",
       "      <td>2</td>\n",
       "      <td>0.006711</td>\n",
       "    </tr>\n",
       "    <tr>\n",
       "      <th>Karyawan BUMD</th>\n",
       "      <td>2</td>\n",
       "      <td>0.006711</td>\n",
       "    </tr>\n",
       "    <tr>\n",
       "      <th>Asisten Riset</th>\n",
       "      <td>1</td>\n",
       "      <td>0.003356</td>\n",
       "    </tr>\n",
       "  </tbody>\n",
       "</table>\n",
       "</div>"
      ],
      "text/plain": [
       "                                              Frekuensi  Proporsi\n",
       "Pekerjaan                                                        \n",
       "Pelajar / Mahasiswa                                 150  0.503356\n",
       "Karyawan Swasta                                      58  0.194631\n",
       "Ibu Rumah Tangga                                     22  0.073826\n",
       "Pengusaha                                            21  0.070470\n",
       "Pegawai Negeri                                       15  0.050336\n",
       "Profesional ( Dokter, Dosen, Pengacara, dll)         13  0.043624\n",
       "Karyawan BUMN                                         4  0.013423\n",
       "Guru                                                  3  0.010067\n",
       "Wiraswasta                                            2  0.006711\n",
       "Freelance                                             2  0.006711\n",
       "Pensiunan                                             2  0.006711\n",
       "Karyawan BUMD                                         2  0.006711\n",
       "Asisten Riset                                         1  0.003356"
      ]
     },
     "execution_count": 14,
     "metadata": {},
     "output_type": "execute_result"
    }
   ],
   "source": [
    "dpekerjaan = df['Pekerjaan'].value_counts()\n",
    "dpekerjaan_proporsi = (df['Pekerjaan'].value_counts()/len(df))\n",
    "dpekerjaan_tabel = pd.concat([dpekerjaan,dpekerjaan_proporsi], axis = 1)\n",
    "dpekerjaan_tabel.columns = ['Frekuensi', 'Proporsi']\n",
    "dpekerjaan_tabel.index.name = \"Pekerjaan\"\n",
    "dpekerjaan_tabel"
   ]
  },
  {
   "cell_type": "markdown",
   "id": "22fcabc8-f35c-4822-9fa9-313493f77055",
   "metadata": {},
   "source": [
    "## NOMOR 9\n",
    "Buat bar chart / pie chart/ donut chart yang menunjukkan perbedaan frekuensi /\n",
    "proporsi untuk apakah aktivitas online responden meningkat atau tidak dalam 3 bulan\n",
    "terakhir."
   ]
  },
  {
   "cell_type": "code",
   "execution_count": 15,
   "id": "e170c8f8-e523-46ff-8610-c736416cbf66",
   "metadata": {},
   "outputs": [
    {
     "data": {
      "text/plain": [
       "<AxesSubplot:ylabel='Aktivitas Online Meningkat'>"
      ]
     },
     "execution_count": 15,
     "metadata": {},
     "output_type": "execute_result"
    },
    {
     "data": {
      "image/png": "[encoded data removed]",
      "text/plain": [
       "<Figure size 432x288 with 1 Axes>"
      ]
     },
     "metadata": {},
     "output_type": "display_data"
    }
   ],
   "source": [
    "df[\"Aktivitas Online Meningkat\"].value_counts().plot(kind=\"pie\",autopct = '%1.2f%%')"
   ]
  },
  {
   "cell_type": "markdown",
   "id": "cb8ac8df-0c54-4d23-8a53-1320a9b4080a",
   "metadata": {},
   "source": [
    "## NOMOR 10\n",
    "Buat tabel frekuensi dan proporsi untuk apakah aktivitas online responden meningkat\n",
    "atau tidak dalam 3 bulan terakhir."
   ]
  },
  {
   "cell_type": "code",
   "execution_count": 16,
   "id": "c682afbf-25b0-422e-b6de-279a72ae6ba1",
   "metadata": {},
   "outputs": [
    {
     "data": {
      "text/html": [
       "<div>\n",
       "<style scoped>\n",
       "    .dataframe tbody tr th:only-of-type {\n",
       "        vertical-align: middle;\n",
       "    }\n",
       "\n",
       "    .dataframe tbody tr th {\n",
       "        vertical-align: top;\n",
       "    }\n",
       "\n",
       "    .dataframe thead th {\n",
       "        text-align: right;\n",
       "    }\n",
       "</style>\n",
       "<table border=\"1\" class=\"dataframe\">\n",
       "  <thead>\n",
       "    <tr style=\"text-align: right;\">\n",
       "      <th></th>\n",
       "      <th>Frekuensi</th>\n",
       "      <th>Proporsi</th>\n",
       "    </tr>\n",
       "    <tr>\n",
       "      <th>Aktivitas Online Meningkat</th>\n",
       "      <th></th>\n",
       "      <th></th>\n",
       "    </tr>\n",
       "  </thead>\n",
       "  <tbody>\n",
       "    <tr>\n",
       "      <th>Ya</th>\n",
       "      <td>142</td>\n",
       "      <td>0.476510</td>\n",
       "    </tr>\n",
       "    <tr>\n",
       "      <th>Sama saja</th>\n",
       "      <td>122</td>\n",
       "      <td>0.409396</td>\n",
       "    </tr>\n",
       "    <tr>\n",
       "      <th>Tidak</th>\n",
       "      <td>33</td>\n",
       "      <td>0.110738</td>\n",
       "    </tr>\n",
       "  </tbody>\n",
       "</table>\n",
       "</div>"
      ],
      "text/plain": [
       "                            Frekuensi  Proporsi\n",
       "Aktivitas Online Meningkat                     \n",
       "Ya                                142  0.476510\n",
       "Sama saja                         122  0.409396\n",
       "Tidak                              33  0.110738"
      ]
     },
     "execution_count": 16,
     "metadata": {},
     "output_type": "execute_result"
    }
   ],
   "source": [
    "donline = df['Aktivitas Online Meningkat'].value_counts()\n",
    "donline_proporsi = (df['Aktivitas Online Meningkat'].value_counts()/len(df))\n",
    "donline_tabel = pd.concat([donline, donline_proporsi], axis = 1)\n",
    "donline_tabel.columns = ['Frekuensi', 'Proporsi']\n",
    "donline_tabel.index.name = \"Aktivitas Online Meningkat\"\n",
    "donline_tabel"
   ]
  },
  {
   "cell_type": "markdown",
   "id": "93782257-31e8-4368-a3ce-2569e75e4c26",
   "metadata": {},
   "source": [
    "## NOMOR 11\n",
    "Buat bar chart yang perbandingan frekuensi/proporsi pengguna 7 bank yang ada di\n",
    "kolom bank_1 sampai bank_7"
   ]
  },
  {
   "cell_type": "code",
   "execution_count": 17,
   "id": "647e80f0-792e-47de-8857-8d1a06200ce9",
   "metadata": {},
   "outputs": [
    {
     "data": {
      "text/plain": [
       "<AxesSubplot:xlabel='Frekuensi', ylabel='Bank'>"
      ]
     },
     "execution_count": 17,
     "metadata": {},
     "output_type": "execute_result"
    },
    {
     "data": {
      "image/png": "[encoded data removed]",
      "text/plain": [
       "<Figure size 432x288 with 1 Axes>"
      ]
     },
     "metadata": {},
     "output_type": "display_data"
    }
   ],
   "source": [
    "dbank = (df.iloc[:, 15:22]).apply(pd.Series.value_counts).dropna(how='all').sum(1).sort_values(ascending = False)\n",
    "dbank = dbank.reset_index(name = 'Frekuensi').set_index('index')\n",
    "dbank['Proporsi'] = dbank['Frekuensi']/len(df)\n",
    "dbank.index.name = \"Bank\"\n",
    "\n",
    "barbank = dbank[\"Frekuensi\"].plot(kind=\"barh\", color = \"plum\")\n",
    "barbank.set_xlabel(\"Frekuensi\")\n",
    "barbank"
   ]
  },
  {
   "cell_type": "markdown",
   "id": "0ffddff5-1372-45b5-9c5d-66685b877ec0",
   "metadata": {},
   "source": [
    "## NOMOR 12\n",
    "Buat tabel frekuensi dan proporsi pengguna 7 bank yang ada di kolom bank_1 sampai\n",
    "bank_7"
   ]
  },
  {
   "cell_type": "code",
   "execution_count": 18,
   "id": "4e010eb5-95b4-4c25-80d2-36ccb0aaec81",
   "metadata": {},
   "outputs": [
    {
     "data": {
      "text/html": [
       "<div>\n",
       "<style scoped>\n",
       "    .dataframe tbody tr th:only-of-type {\n",
       "        vertical-align: middle;\n",
       "    }\n",
       "\n",
       "    .dataframe tbody tr th {\n",
       "        vertical-align: top;\n",
       "    }\n",
       "\n",
       "    .dataframe thead th {\n",
       "        text-align: right;\n",
       "    }\n",
       "</style>\n",
       "<table border=\"1\" class=\"dataframe\">\n",
       "  <thead>\n",
       "    <tr style=\"text-align: right;\">\n",
       "      <th></th>\n",
       "      <th>Frekuensi</th>\n",
       "      <th>Proporsi</th>\n",
       "    </tr>\n",
       "    <tr>\n",
       "      <th>Bank</th>\n",
       "      <th></th>\n",
       "      <th></th>\n",
       "    </tr>\n",
       "  </thead>\n",
       "  <tbody>\n",
       "    <tr>\n",
       "      <th>Bank BCA</th>\n",
       "      <td>158.0</td>\n",
       "      <td>0.530201</td>\n",
       "    </tr>\n",
       "    <tr>\n",
       "      <th>Bank Mandiri</th>\n",
       "      <td>102.0</td>\n",
       "      <td>0.342282</td>\n",
       "    </tr>\n",
       "    <tr>\n",
       "      <th>Bank BNI</th>\n",
       "      <td>75.0</td>\n",
       "      <td>0.251678</td>\n",
       "    </tr>\n",
       "    <tr>\n",
       "      <th>Bank BRI</th>\n",
       "      <td>51.0</td>\n",
       "      <td>0.171141</td>\n",
       "    </tr>\n",
       "    <tr>\n",
       "      <th>Bank CIMB Niaga</th>\n",
       "      <td>15.0</td>\n",
       "      <td>0.050336</td>\n",
       "    </tr>\n",
       "    <tr>\n",
       "      <th>Bank BTN</th>\n",
       "      <td>14.0</td>\n",
       "      <td>0.046980</td>\n",
       "    </tr>\n",
       "    <tr>\n",
       "      <th>Bank Permata</th>\n",
       "      <td>7.0</td>\n",
       "      <td>0.023490</td>\n",
       "    </tr>\n",
       "  </tbody>\n",
       "</table>\n",
       "</div>"
      ],
      "text/plain": [
       "                 Frekuensi  Proporsi\n",
       "Bank                                \n",
       "Bank BCA             158.0  0.530201\n",
       "Bank Mandiri         102.0  0.342282\n",
       "Bank BNI              75.0  0.251678\n",
       "Bank BRI              51.0  0.171141\n",
       "Bank CIMB Niaga       15.0  0.050336\n",
       "Bank BTN              14.0  0.046980\n",
       "Bank Permata           7.0  0.023490"
      ]
     },
     "execution_count": 18,
     "metadata": {},
     "output_type": "execute_result"
    }
   ],
   "source": [
    "dbank = (df.iloc[:, 15:22]).apply(pd.Series.value_counts).dropna(how='all').sum(1).sort_values(ascending = False)\n",
    "dbank = dbank.reset_index(name = 'Frekuensi').set_index('index')\n",
    "dbank['Proporsi'] = dbank['Frekuensi']/len(df)\n",
    "dbank.index.name = \"Bank\"\n",
    "dbank"
   ]
  },
  {
   "cell_type": "markdown",
   "id": "20320eff-59cd-41ad-8676-d3d0f56e4bd2",
   "metadata": {},
   "source": [
    "## NOMOR 13\n",
    "Hitung confidence interval 95% untuk proporsi pengguna Bank BCA:"
   ]
  },
  {
   "cell_type": "code",
   "execution_count": 19,
   "id": "9e732fe8-8a80-4393-8be6-1c90a1070dac",
   "metadata": {},
   "outputs": [
    {
     "name": "stdout",
     "output_type": "stream",
     "text": [
      "0.47353616442738067 < Proporsi BCA <  0.5868665201363777\n"
     ]
    }
   ],
   "source": [
    "alpha = 0.05\n",
    "z_alphaper2 = norm.ppf(1-alpha/2)\n",
    "n = len(df)\n",
    "proporsiBCA = dbank.iloc[0,1]\n",
    "\n",
    "error = z_alphaper2 * ((proporsiBCA * (1-proporsiBCA))/n)**0.5\n",
    "LB = proporsiBCA - error\n",
    "UB = proporsiBCA + error\n",
    "print(LB,\"< Proporsi BCA < \",UB)"
   ]
  },
  {
   "cell_type": "markdown",
   "id": "83e5150c-3189-44b0-ab5a-2dbbcdb9cbac",
   "metadata": {},
   "source": [
    "## NOMOR 14\n",
    "\n",
    "Lakukan uji hipotesis berikut:\n",
    "\n",
    "H0: proporsi BCA = 0.5\n",
    "H1: proporsi BCA ≠ 0.5\n",
    "alpha = 5%"
   ]
  },
  {
   "cell_type": "code",
   "execution_count": 20,
   "id": "c1eedcc2-57e8-4abe-a7c6-e10d77af712e",
   "metadata": {},
   "outputs": [
    {
     "name": "stdout",
     "output_type": "stream",
     "text": [
      "Crit Region : t< -1.959963984540054, t > 1.959963984540054\n",
      "nilai statistik uji :  1.042712003454286\n",
      "Kesimpulan : Z diluar crit region, H0 gagal ditolak\n",
      "Pvalue =  0.2970816968525196\n"
     ]
    }
   ],
   "source": [
    "P0_BCA = 0.5\n",
    "PBCA = dbank.iloc[0,1]\n",
    "alpha = 0.05\n",
    "z_alphaper2 = norm.ppf(1-alpha/2)\n",
    "n = len(df)\n",
    "\n",
    "#crit region\n",
    "print(f'Crit Region : t< -{z_alphaper2}, t > {z_alphaper2}')\n",
    "\n",
    "#nilai statistik uji\n",
    "z = ((n * PBCA) - (n * P0_BCA))/((n * P0_BCA * (1 - P0_BCA))**0.5)\n",
    "print(\"nilai statistik uji : \",z)\n",
    "\n",
    "#kesimpulan\n",
    "print(\"Kesimpulan : Z diluar crit region, H0 gagal ditolak\")\n",
    "      \n",
    "#pvalue\n",
    "pvalue= 2 * (1 - norm.cdf(z))\n",
    "print (\"Pvalue = \",pvalue)"
   ]
  },
  {
   "cell_type": "markdown",
   "id": "ebb2bdb0-cdf5-48ba-a53d-42f66f3fa500",
   "metadata": {},
   "source": [
    "## NOMOR 15\n",
    "Buat bar chart yang menunjukkan perbedaan frekuensi / proporsi untuk preferensi\n",
    "channel yang dipilih responden untuk melakukan “Transfer antar bank”."
   ]
  },
  {
   "cell_type": "code",
   "execution_count": 21,
   "id": "dfce5391-dc24-4869-ad57-d4399425cb9b",
   "metadata": {},
   "outputs": [
    {
     "data": {
      "text/plain": [
       "<AxesSubplot:xlabel='Frekuensi', ylabel='Transfer antar bank'>"
      ]
     },
     "execution_count": 21,
     "metadata": {},
     "output_type": "execute_result"
    },
    {
     "data": {
      "image/png": "[encoded data removed]",
      "text/plain": [
       "<Figure size 432x288 with 1 Axes>"
      ]
     },
     "metadata": {},
     "output_type": "display_data"
    }
   ],
   "source": [
    "dtf = df.iloc[: , 30].value_counts()\n",
    "dtf_proporsi = df.iloc[: , 30].value_counts()/len(df)\n",
    "dtf_tabel = pd.concat([dtf, dtf_proporsi], axis = 1)\n",
    "dtf_tabel.columns = ['Frekuensi', 'Proporsi']\n",
    "dtf_tabel.index.name = \"Transfer antar bank\"\n",
    "dtf_tabel\n",
    "\n",
    "trfbank = dtf_tabel[\"Frekuensi\"].plot(kind=\"barh\", color = \"plum\")\n",
    "trfbank.set_xlabel(\"Frekuensi\")\n",
    "trfbank"
   ]
  },
  {
   "cell_type": "markdown",
   "id": "9ebdf7a5-ff44-4b7a-a67c-8d56f09ff037",
   "metadata": {
    "tags": []
   },
   "source": [
    "## NOMOR 16\n",
    "Buat tabel frekuensi dan proporsi untuk preferensi channel yang dipilih responden\n",
    "untuk melakukan “Transfer antar bank”."
   ]
  },
  {
   "cell_type": "code",
   "execution_count": 22,
   "id": "1197f5b8-4615-4016-aee7-18d5458fa3d7",
   "metadata": {},
   "outputs": [
    {
     "data": {
      "text/html": [
       "<div>\n",
       "<style scoped>\n",
       "    .dataframe tbody tr th:only-of-type {\n",
       "        vertical-align: middle;\n",
       "    }\n",
       "\n",
       "    .dataframe tbody tr th {\n",
       "        vertical-align: top;\n",
       "    }\n",
       "\n",
       "    .dataframe thead th {\n",
       "        text-align: right;\n",
       "    }\n",
       "</style>\n",
       "<table border=\"1\" class=\"dataframe\">\n",
       "  <thead>\n",
       "    <tr style=\"text-align: right;\">\n",
       "      <th></th>\n",
       "      <th>Frekuensi</th>\n",
       "      <th>Proporsi</th>\n",
       "    </tr>\n",
       "    <tr>\n",
       "      <th>Transfer antar bank</th>\n",
       "      <th></th>\n",
       "      <th></th>\n",
       "    </tr>\n",
       "  </thead>\n",
       "  <tbody>\n",
       "    <tr>\n",
       "      <th>Mobile Banking</th>\n",
       "      <td>205</td>\n",
       "      <td>0.687919</td>\n",
       "    </tr>\n",
       "    <tr>\n",
       "      <th>Internet Banking</th>\n",
       "      <td>21</td>\n",
       "      <td>0.070470</td>\n",
       "    </tr>\n",
       "    <tr>\n",
       "      <th>ATM</th>\n",
       "      <td>17</td>\n",
       "      <td>0.057047</td>\n",
       "    </tr>\n",
       "    <tr>\n",
       "      <th>Datang ke cabang bank</th>\n",
       "      <td>2</td>\n",
       "      <td>0.006711</td>\n",
       "    </tr>\n",
       "    <tr>\n",
       "      <th>SMS Banking</th>\n",
       "      <td>1</td>\n",
       "      <td>0.003356</td>\n",
       "    </tr>\n",
       "  </tbody>\n",
       "</table>\n",
       "</div>"
      ],
      "text/plain": [
       "                       Frekuensi  Proporsi\n",
       "Transfer antar bank                       \n",
       "Mobile Banking               205  0.687919\n",
       "Internet Banking              21  0.070470\n",
       "ATM                           17  0.057047\n",
       "Datang ke cabang bank          2  0.006711\n",
       "SMS Banking                    1  0.003356"
      ]
     },
     "execution_count": 22,
     "metadata": {},
     "output_type": "execute_result"
    }
   ],
   "source": [
    "dtf = df.iloc[: , 30].value_counts()\n",
    "dtf_proporsi = df.iloc[: , 30].value_counts()/len(df)\n",
    "dtf_tabel = pd.concat([dtf, dtf_proporsi], axis = 1)\n",
    "dtf_tabel.columns = ['Frekuensi', 'Proporsi']\n",
    "dtf_tabel.index.name = \"Transfer antar bank\"\n",
    "dtf_tabel"
   ]
  },
  {
   "cell_type": "markdown",
   "id": "73aa09dc-4431-442c-87ac-67d0e57f4fec",
   "metadata": {},
   "source": [
    "## NOMOR 17\n",
    "Buat bar chart yang perbandingan frekuensi/proporsi pengguna 7 emoney yang ada di\n",
    "kolom emoney_pilihan_1 sampai emoney_pilihan_7 (8 – 11 tidak usah)"
   ]
  },
  {
   "cell_type": "code",
   "execution_count": 23,
   "id": "1274956d-f85d-41f7-86e3-f2117c95cf06",
   "metadata": {},
   "outputs": [
    {
     "data": {
      "text/plain": [
       "<AxesSubplot:xlabel='E-money', ylabel='Frekuensi'>"
      ]
     },
     "execution_count": 23,
     "metadata": {},
     "output_type": "execute_result"
    },
    {
     "data": {
      "image/png": "[encoded data removed]",
      "text/plain": [
       "<Figure size 432x288 with 1 Axes>"
      ]
     },
     "metadata": {},
     "output_type": "display_data"
    }
   ],
   "source": [
    "demoney = (df.iloc[:, 37:44]).apply(pd.Series.value_counts).dropna(how='all').sum(1).sort_values(ascending = False)\n",
    "demoney = demoney.reset_index(name = 'Frekuensi').set_index('index')\n",
    "demoney['Proporsi'] = demoney['Frekuensi']/len(df)\n",
    "demoney.index.name = \"E-money\"\n",
    "demoney\n",
    "\n",
    "baremoney = demoney[\"Frekuensi\"].plot(kind=\"bar\", color = \"plum\")\n",
    "baremoney.set_ylabel(\"Frekuensi\")\n",
    "plt.xticks(rotation = 45)\n",
    "baremoney"
   ]
  },
  {
   "cell_type": "markdown",
   "id": "5ba056bb-f0de-428d-813e-005b9f31c7a0",
   "metadata": {},
   "source": [
    "## NOMOR 18\n",
    "Buat tabel frekuensi dan proporsi pengguna 7 emoney yang ada di kolom\n",
    "emoney_pilihan_1 sampai emoney_pilihan_7 (8 – 11 tidak usah)"
   ]
  },
  {
   "cell_type": "code",
   "execution_count": 24,
   "id": "a1dafd7d-5885-4289-9134-689bfd9fa528",
   "metadata": {},
   "outputs": [
    {
     "data": {
      "text/html": [
       "<div>\n",
       "<style scoped>\n",
       "    .dataframe tbody tr th:only-of-type {\n",
       "        vertical-align: middle;\n",
       "    }\n",
       "\n",
       "    .dataframe tbody tr th {\n",
       "        vertical-align: top;\n",
       "    }\n",
       "\n",
       "    .dataframe thead th {\n",
       "        text-align: right;\n",
       "    }\n",
       "</style>\n",
       "<table border=\"1\" class=\"dataframe\">\n",
       "  <thead>\n",
       "    <tr style=\"text-align: right;\">\n",
       "      <th></th>\n",
       "      <th>Frekuensi</th>\n",
       "      <th>Proporsi</th>\n",
       "    </tr>\n",
       "    <tr>\n",
       "      <th>E-money</th>\n",
       "      <th></th>\n",
       "      <th></th>\n",
       "    </tr>\n",
       "  </thead>\n",
       "  <tbody>\n",
       "    <tr>\n",
       "      <th>GoPay</th>\n",
       "      <td>220.0</td>\n",
       "      <td>0.738255</td>\n",
       "    </tr>\n",
       "    <tr>\n",
       "      <th>ShopeePay</th>\n",
       "      <td>170.0</td>\n",
       "      <td>0.570470</td>\n",
       "    </tr>\n",
       "    <tr>\n",
       "      <th>OVO</th>\n",
       "      <td>158.0</td>\n",
       "      <td>0.530201</td>\n",
       "    </tr>\n",
       "    <tr>\n",
       "      <th>Dana</th>\n",
       "      <td>95.0</td>\n",
       "      <td>0.318792</td>\n",
       "    </tr>\n",
       "    <tr>\n",
       "      <th>eMoney Mandiri</th>\n",
       "      <td>95.0</td>\n",
       "      <td>0.318792</td>\n",
       "    </tr>\n",
       "    <tr>\n",
       "      <th>Flazz BCA</th>\n",
       "      <td>65.0</td>\n",
       "      <td>0.218121</td>\n",
       "    </tr>\n",
       "    <tr>\n",
       "      <th>LinkAja</th>\n",
       "      <td>27.0</td>\n",
       "      <td>0.090604</td>\n",
       "    </tr>\n",
       "  </tbody>\n",
       "</table>\n",
       "</div>"
      ],
      "text/plain": [
       "                Frekuensi  Proporsi\n",
       "E-money                            \n",
       "GoPay               220.0  0.738255\n",
       "ShopeePay           170.0  0.570470\n",
       "OVO                 158.0  0.530201\n",
       "Dana                 95.0  0.318792\n",
       "eMoney Mandiri       95.0  0.318792\n",
       "Flazz BCA            65.0  0.218121\n",
       "LinkAja              27.0  0.090604"
      ]
     },
     "execution_count": 24,
     "metadata": {},
     "output_type": "execute_result"
    }
   ],
   "source": [
    "demoney = (df.iloc[:, 37:44]).apply(pd.Series.value_counts).dropna(how='all').sum(1).sort_values(ascending = False)\n",
    "demoney = demoney.reset_index(name = 'Frekuensi').set_index('index')\n",
    "demoney['Proporsi'] = demoney['Frekuensi']/len(df)\n",
    "demoney.index.name = \"E-money\"\n",
    "demoney"
   ]
  },
  {
   "cell_type": "markdown",
   "id": "c8baa934-e7bf-494a-9bca-75751b9a4bf4",
   "metadata": {
    "tags": []
   },
   "source": [
    "## NOMOR 19\n",
    "Hitung confidence interval 95% untuk selisih proporsi pengguna Gopay dan OVO."
   ]
  },
  {
   "cell_type": "code",
   "execution_count": 25,
   "id": "775b4352-bc29-4b95-a206-324024e7a2a1",
   "metadata": {},
   "outputs": [
    {
     "name": "stdout",
     "output_type": "stream",
     "text": [
      "0.13254282815455187 < PGopay - Povo < 0.28356455439578376\n"
     ]
    }
   ],
   "source": [
    "pgopay = demoney.iloc[0,1]\n",
    "povo =  demoney.iloc[2,1]\n",
    "alpha = 0.05\n",
    "n1 = len(df)\n",
    "n2 = len(df)\n",
    "z_alphaper2 = norm.ppf(1-alpha/2)\n",
    "\n",
    "eror = z_alphaper2 * ((pgopay * (1-pgopay) / n1)+(povo * (1-povo) /n2))**0.5\n",
    "pgopay_kurang_Povo = pgopay - povo\n",
    "\n",
    "LB = pgopay_kurang_Povo - eror\n",
    "UB = pgopay_kurang_Povo + eror\n",
    "\n",
    "print(LB, \"< PGopay - Povo <\", UB)"
   ]
  },
  {
   "cell_type": "markdown",
   "id": "f8832a9b-980a-484d-ad53-83b029af4f9d",
   "metadata": {},
   "source": [
    "## NOMOR 20\n",
    "H1: PGopay = Povo\n",
    "H0: PGopay > Povo\n",
    "alpha = 5%"
   ]
  },
  {
   "cell_type": "code",
   "execution_count": 26,
   "id": "a20349c2-95f6-49af-b3e3-a525f41e12ba",
   "metadata": {},
   "outputs": [
    {
     "name": "stdout",
     "output_type": "stream",
     "text": [
      "Crit Region :t > 1.6448536269514722\n",
      "niali statistik uji :  5.272792399881485\n",
      "Kesimpulan : Z didalam crit region, H0 ditolak\n",
      "Pvalue =  6.718176159825617e-08\n"
     ]
    }
   ],
   "source": [
    "pgopay = demoney.iloc[0,1]\n",
    "povo =  demoney.iloc[2,1]\n",
    "xgopay = demoney.iloc[0,0]\n",
    "xovo =  demoney.iloc[2,0]\n",
    "alpha = 0.05\n",
    "n1 = len(df)\n",
    "n2 = len(df)\n",
    "z_alpha = norm.ppf(1-alpha)\n",
    "pgopay_kurang_Povo = pgopay - povo\n",
    "\n",
    "#mencari phat\n",
    "phat = (xgopay+xovo)/(n1+n2)\n",
    "\n",
    "#crit region\n",
    "print(f'Crit Region :t > {z_alpha}')\n",
    "\n",
    "#mencari nilai statistik uji\n",
    "z = (pgopay_kurang_Povo)/(phat * (1-phat) * ((1/n1)+(1/n2)))**0.5\n",
    "print(\"niali statistik uji : \",z)\n",
    "\n",
    "#kesimpulan\n",
    "print(\"Kesimpulan : Z didalam crit region, H0 ditolak\")\n",
    "\n",
    "#pvalue\n",
    "pvalue= 1 - norm.cdf(z)\n",
    "print (\"Pvalue = \",pvalue)"
   ]
  },
  {
   "cell_type": "markdown",
   "id": "2b57a368-6b94-407e-b03a-c22a4906b79f",
   "metadata": {
    "tags": []
   },
   "source": [
    "## NOMOR 21\n",
    "Buat bar chart / pie chart/ donut chart yang menunjukkan perbedaan frekuensi /\n",
    "proporsi untuk nominal yang biasa dipakai untuk top up emoney."
   ]
  },
  {
   "cell_type": "code",
   "execution_count": 27,
   "id": "72d28331-30b8-4915-a9a4-34e682b29a6e",
   "metadata": {},
   "outputs": [
    {
     "data": {
      "text/plain": [
       "<AxesSubplot:xlabel='Frekuensi', ylabel='nominal top up'>"
      ]
     },
     "execution_count": 27,
     "metadata": {},
     "output_type": "execute_result"
    },
    {
     "data": {
      "image/png": "[encoded data removed]",
      "text/plain": [
       "<Figure size 432x288 with 1 Axes>"
      ]
     },
     "metadata": {},
     "output_type": "display_data"
    }
   ],
   "source": [
    "dto = df.iloc[:, 70].value_counts()\n",
    "dto_proporsi = (df.iloc[:, 70].value_counts()/len(df))\n",
    "dto_tabel = pd.concat([dto, dto_proporsi], axis = 1)\n",
    "dto_tabel.columns = ['Frekuensi', 'Proporsi']\n",
    "dto_tabel.index.name = \"nominal top up\"\n",
    "dto_tabel\n",
    "\n",
    "bar = dto_tabel[\"Frekuensi\"].plot(kind=\"barh\", color = \"plum\")\n",
    "bar.set_xlabel(\"Frekuensi\")\n",
    "bar"
   ]
  },
  {
   "cell_type": "markdown",
   "id": "0e69ef15-fde1-43a4-a8c2-8676d4f43ae5",
   "metadata": {},
   "source": [
    "## NOMOR 22\n",
    "Buat tabel frekuensi dan proporsi untuk nominal yang biasa dipakai untuk top up\n",
    "emoney."
   ]
  },
  {
   "cell_type": "code",
   "execution_count": 28,
   "id": "c00d09c1-4ece-4603-96f6-951221a876e7",
   "metadata": {},
   "outputs": [
    {
     "data": {
      "text/html": [
       "<div>\n",
       "<style scoped>\n",
       "    .dataframe tbody tr th:only-of-type {\n",
       "        vertical-align: middle;\n",
       "    }\n",
       "\n",
       "    .dataframe tbody tr th {\n",
       "        vertical-align: top;\n",
       "    }\n",
       "\n",
       "    .dataframe thead th {\n",
       "        text-align: right;\n",
       "    }\n",
       "</style>\n",
       "<table border=\"1\" class=\"dataframe\">\n",
       "  <thead>\n",
       "    <tr style=\"text-align: right;\">\n",
       "      <th></th>\n",
       "      <th>Frekuensi</th>\n",
       "      <th>Proporsi</th>\n",
       "    </tr>\n",
       "    <tr>\n",
       "      <th>nominal top up</th>\n",
       "      <th></th>\n",
       "      <th></th>\n",
       "    </tr>\n",
       "  </thead>\n",
       "  <tbody>\n",
       "    <tr>\n",
       "      <th>Rp 50.001 – Rp 100.000</th>\n",
       "      <td>96</td>\n",
       "      <td>0.322148</td>\n",
       "    </tr>\n",
       "    <tr>\n",
       "      <th>Rp 100.001 – Rp 150.000</th>\n",
       "      <td>57</td>\n",
       "      <td>0.191275</td>\n",
       "    </tr>\n",
       "    <tr>\n",
       "      <th>&gt; Rp 300.000</th>\n",
       "      <td>45</td>\n",
       "      <td>0.151007</td>\n",
       "    </tr>\n",
       "    <tr>\n",
       "      <th>Rp 150.001 – Rp 300.000</th>\n",
       "      <td>44</td>\n",
       "      <td>0.147651</td>\n",
       "    </tr>\n",
       "    <tr>\n",
       "      <th>Rp 25.000 – Rp 50.000,-</th>\n",
       "      <td>25</td>\n",
       "      <td>0.083893</td>\n",
       "    </tr>\n",
       "    <tr>\n",
       "      <th>&lt; Rp 25.000,-</th>\n",
       "      <td>3</td>\n",
       "      <td>0.010067</td>\n",
       "    </tr>\n",
       "  </tbody>\n",
       "</table>\n",
       "</div>"
      ],
      "text/plain": [
       "                         Frekuensi  Proporsi\n",
       "nominal top up                              \n",
       "Rp 50.001 – Rp 100.000          96  0.322148\n",
       "Rp 100.001 – Rp 150.000         57  0.191275\n",
       "> Rp 300.000                    45  0.151007\n",
       "Rp 150.001 – Rp 300.000         44  0.147651\n",
       "Rp 25.000 – Rp 50.000,-         25  0.083893\n",
       "< Rp 25.000,-                    3  0.010067"
      ]
     },
     "execution_count": 28,
     "metadata": {},
     "output_type": "execute_result"
    }
   ],
   "source": [
    "dto = df.iloc[:, 70].value_counts()\n",
    "dto_proporsi = (df.iloc[:, 70].value_counts()/len(df))\n",
    "dto_tabel = pd.concat([dto, dto_proporsi], axis = 1)\n",
    "dto_tabel.columns = ['Frekuensi', 'Proporsi']\n",
    "dto_tabel.index.name = \"nominal top up\"\n",
    "dto_tabel"
   ]
  },
  {
   "cell_type": "markdown",
   "id": "bb98973a-7582-4d09-88f7-3d075d280263",
   "metadata": {},
   "source": [
    "# NOMOR 23\n",
    "Buat bar chart yang perbandingan frekuensi/proporsi pengguna 7 ecommerce yang ada\n",
    "di kolom ecommerce_pilihan_1 sampai ecommerce_pilihan_7 (8 – 12 tidak usah)"
   ]
  },
  {
   "cell_type": "code",
   "execution_count": 29,
   "id": "d5f4bf5a-5ea3-45fc-8951-31fc5d62f946",
   "metadata": {},
   "outputs": [
    {
     "data": {
      "text/plain": [
       "<AxesSubplot:xlabel='Frekuensi', ylabel='E-Commerce'>"
      ]
     },
     "execution_count": 29,
     "metadata": {},
     "output_type": "execute_result"
    },
    {
     "data": {
      "image/png": "[encoded data removed]",
      "text/plain": [
       "<Figure size 432x288 with 1 Axes>"
      ]
     },
     "metadata": {},
     "output_type": "display_data"
    }
   ],
   "source": [
    "decomm = (df.iloc[:, 116:123]).apply(pd.Series.value_counts).dropna(how='all').sum(1).sort_values(ascending = False)\n",
    "decomm = decomm.reset_index(name = 'Frekuensi').set_index('index')\n",
    "decomm['Proporsi'] = decomm['Frekuensi']/len(df)\n",
    "decomm.index.name = \"E-Commerce\"\n",
    "\n",
    "bar = decomm[\"Frekuensi\"].plot(kind=\"barh\", color = \"plum\")\n",
    "bar.set_xlabel(\"Frekuensi\")\n",
    "bar"
   ]
  },
  {
   "cell_type": "markdown",
   "id": "d2c2393e-7fcc-48c4-860c-c482311dc53a",
   "metadata": {},
   "source": [
    "# NOMOR 23\n",
    "Buat tabel frekuensi dan proporsi pengguna 7 ecommerce yang ada di kolom\n",
    "ecommerce_pilihan_1 sampai ecommerce_pilihan_7 (8 – 12 tidak usah)"
   ]
  },
  {
   "cell_type": "code",
   "execution_count": 30,
   "id": "40acc57c-c025-4fac-bc97-2466f20a479e",
   "metadata": {},
   "outputs": [
    {
     "data": {
      "text/html": [
       "<div>\n",
       "<style scoped>\n",
       "    .dataframe tbody tr th:only-of-type {\n",
       "        vertical-align: middle;\n",
       "    }\n",
       "\n",
       "    .dataframe tbody tr th {\n",
       "        vertical-align: top;\n",
       "    }\n",
       "\n",
       "    .dataframe thead th {\n",
       "        text-align: right;\n",
       "    }\n",
       "</style>\n",
       "<table border=\"1\" class=\"dataframe\">\n",
       "  <thead>\n",
       "    <tr style=\"text-align: right;\">\n",
       "      <th></th>\n",
       "      <th>Frekuensi</th>\n",
       "      <th>Proporsi</th>\n",
       "    </tr>\n",
       "    <tr>\n",
       "      <th>E-Commerce</th>\n",
       "      <th></th>\n",
       "      <th></th>\n",
       "    </tr>\n",
       "  </thead>\n",
       "  <tbody>\n",
       "    <tr>\n",
       "      <th>Shopee</th>\n",
       "      <td>242.0</td>\n",
       "      <td>0.812081</td>\n",
       "    </tr>\n",
       "    <tr>\n",
       "      <th>Gojek (GoFood</th>\n",
       "      <td>205.0</td>\n",
       "      <td>0.687919</td>\n",
       "    </tr>\n",
       "    <tr>\n",
       "      <th>Tokopedia</th>\n",
       "      <td>194.0</td>\n",
       "      <td>0.651007</td>\n",
       "    </tr>\n",
       "    <tr>\n",
       "      <th>Grab (GrabFood</th>\n",
       "      <td>111.0</td>\n",
       "      <td>0.372483</td>\n",
       "    </tr>\n",
       "    <tr>\n",
       "      <th>Traveloka</th>\n",
       "      <td>44.0</td>\n",
       "      <td>0.147651</td>\n",
       "    </tr>\n",
       "    <tr>\n",
       "      <th>Lazada</th>\n",
       "      <td>30.0</td>\n",
       "      <td>0.100671</td>\n",
       "    </tr>\n",
       "    <tr>\n",
       "      <th>Tiket.com</th>\n",
       "      <td>24.0</td>\n",
       "      <td>0.080537</td>\n",
       "    </tr>\n",
       "  </tbody>\n",
       "</table>\n",
       "</div>"
      ],
      "text/plain": [
       "                Frekuensi  Proporsi\n",
       "E-Commerce                         \n",
       "Shopee              242.0  0.812081\n",
       "Gojek (GoFood       205.0  0.687919\n",
       "Tokopedia           194.0  0.651007\n",
       "Grab (GrabFood      111.0  0.372483\n",
       "Traveloka            44.0  0.147651\n",
       "Lazada               30.0  0.100671\n",
       "Tiket.com            24.0  0.080537"
      ]
     },
     "execution_count": 30,
     "metadata": {},
     "output_type": "execute_result"
    }
   ],
   "source": [
    "decomm = (df.iloc[:, 116:123]).apply(pd.Series.value_counts).dropna(how='all').sum(1).sort_values(ascending = False)\n",
    "decomm = decomm.reset_index(name = 'Frekuensi').set_index('index')\n",
    "decomm['Proporsi'] = decomm['Frekuensi']/len(df)\n",
    "decomm.index.name = \"E-Commerce\"\n",
    "decomm"
   ]
  },
  {
   "cell_type": "markdown",
   "id": "9ae1925d-dbe8-4c0d-ac50-7c787e40c227",
   "metadata": {},
   "source": [
    "# NOMOR 25\n",
    "Buat bar chart / pie chart/ donut chart yang menunjukkan perbedaan frekuensi /\n",
    "proporsi untuk responden yang prefer beli handphone secara offline vs online"
   ]
  },
  {
   "cell_type": "code",
   "execution_count": 31,
   "id": "33895040-7645-4bbf-9e5f-7f393b2b82ee",
   "metadata": {},
   "outputs": [
    {
     "data": {
      "text/plain": [
       "<AxesSubplot:xlabel='prefer handphone', ylabel='Frekuensi'>"
      ]
     },
     "execution_count": 31,
     "metadata": {},
     "output_type": "execute_result"
    },
    {
     "data": {
      "image/png": "[encoded data removed]",
      "text/plain": [
       "<Figure size 432x288 with 1 Axes>"
      ]
     },
     "metadata": {},
     "output_type": "display_data"
    }
   ],
   "source": [
    "dhp = df.iloc[:,99].value_counts()\n",
    "dhp_proporsi = (df.iloc[:,99].value_counts()/len(df))\n",
    "dhp_tabel = pd.concat([dhp, dhp_proporsi], axis = 1)\n",
    "dhp_tabel.columns = ['Frekuensi', 'Proporsi']\n",
    "dhp_tabel.index.name = \"prefer handphone\"\n",
    "dhp_tabel.index.name = \"prefer handphone\"\n",
    "dhp_tabel\n",
    "\n",
    "barhp = dhp_tabel[\"Frekuensi\"].plot(kind=\"bar\", color = \"plum\")\n",
    "barhp.set_ylabel(\"Frekuensi\")\n",
    "plt.xticks(rotation = 0)\n",
    "barhp"
   ]
  },
  {
   "cell_type": "markdown",
   "id": "ccd60525-8ea6-4f0c-9fba-36ac552a1abe",
   "metadata": {},
   "source": [
    "# NOMOR 26\n",
    "Buat tabel frekuensi dan proporsi untuk responden yang prefer beli handphone secara\n",
    "offline vs online"
   ]
  },
  {
   "cell_type": "code",
   "execution_count": 32,
   "id": "98042324-faa4-484f-bd79-50e9a6ddf60c",
   "metadata": {},
   "outputs": [
    {
     "data": {
      "text/html": [
       "<div>\n",
       "<style scoped>\n",
       "    .dataframe tbody tr th:only-of-type {\n",
       "        vertical-align: middle;\n",
       "    }\n",
       "\n",
       "    .dataframe tbody tr th {\n",
       "        vertical-align: top;\n",
       "    }\n",
       "\n",
       "    .dataframe thead th {\n",
       "        text-align: right;\n",
       "    }\n",
       "</style>\n",
       "<table border=\"1\" class=\"dataframe\">\n",
       "  <thead>\n",
       "    <tr style=\"text-align: right;\">\n",
       "      <th></th>\n",
       "      <th>Frekuensi</th>\n",
       "      <th>Proporsi</th>\n",
       "    </tr>\n",
       "    <tr>\n",
       "      <th>prefer handphone</th>\n",
       "      <th></th>\n",
       "      <th></th>\n",
       "    </tr>\n",
       "  </thead>\n",
       "  <tbody>\n",
       "    <tr>\n",
       "      <th>offline/ langsung datang ke toko fisik</th>\n",
       "      <td>208</td>\n",
       "      <td>0.697987</td>\n",
       "    </tr>\n",
       "    <tr>\n",
       "      <th>online</th>\n",
       "      <td>57</td>\n",
       "      <td>0.191275</td>\n",
       "    </tr>\n",
       "  </tbody>\n",
       "</table>\n",
       "</div>"
      ],
      "text/plain": [
       "                                        Frekuensi  Proporsi\n",
       "prefer handphone                                           \n",
       "offline/ langsung datang ke toko fisik        208  0.697987\n",
       "online                                         57  0.191275"
      ]
     },
     "execution_count": 32,
     "metadata": {},
     "output_type": "execute_result"
    }
   ],
   "source": [
    "dhp = df.iloc[:,99].value_counts()\n",
    "dhp_proporsi = (df.iloc[:,99].value_counts()/len(df))\n",
    "dhp_tabel = pd.concat([dhp, dhp_proporsi], axis = 1)\n",
    "dhp_tabel.columns = ['Frekuensi', 'Proporsi']\n",
    "dhp_tabel.index.name = \"prefer handphone\"\n",
    "dhp_tabel.index.name = \"prefer handphone\"\n",
    "dhp_tabel"
   ]
  },
  {
   "cell_type": "markdown",
   "id": "97dfd6d2-3e62-41af-910e-46f56d834f9f",
   "metadata": {},
   "source": [
    "# NOMOR 27\n",
    "Buat bar chart / pie chart/ donut chart yang menunjukkan perbedaan frekuensi /\n",
    "proporsi untuk tempat beli makanan online yang pilihan responden"
   ]
  },
  {
   "cell_type": "code",
   "execution_count": 33,
   "id": "39cc385d-059b-49f9-bf25-64864231f019",
   "metadata": {},
   "outputs": [
    {
     "data": {
      "text/plain": [
       "<AxesSubplot:xlabel='Food Delivery', ylabel='Frekuensi'>"
      ]
     },
     "execution_count": 33,
     "metadata": {},
     "output_type": "execute_result"
    },
    {
     "data": {
      "image/png": "[encoded data removed]",
      "text/plain": [
       "<Figure size 432x288 with 1 Axes>"
      ]
     },
     "metadata": {},
     "output_type": "display_data"
    }
   ],
   "source": [
    "dfmakan = df.iloc[:,128]\n",
    "dfmakanan = dfmakan.loc[(dfmakan.iloc[0:len(df)] == 'ShopeeFood') | (dfmakan.iloc[0:len(df)] == 'GoFood') | (dfmakan.iloc[0:len(df)] == 'GrabFood')]\n",
    "dmakan = dfmakanan.value_counts()\n",
    "dmakan_proporsi = (dfmakanan.value_counts()/len(df))\n",
    "dmakan_tabel = pd.concat([dmakan, dmakan_proporsi], axis = 1)\n",
    "dmakan_tabel.columns = ['Frekuensi', 'Proporsi']\n",
    "dmakan_tabel.index.name = \"Food Delivery\"\n",
    "dmakan_tabel \n",
    "\n",
    "barmakan = dmakan_tabel[\"Frekuensi\"].plot(kind=\"bar\", color = \"plum\")\n",
    "barmakan.set_ylabel(\"Frekuensi\")\n",
    "plt.xticks(rotation = 0)\n",
    "barmakan"
   ]
  },
  {
   "cell_type": "markdown",
   "id": "2fab0e6e-92dd-4945-ba9f-4ee75d7a8241",
   "metadata": {},
   "source": [
    "# NOMOR 28\n",
    "Buat tabel frekuensi dan proporsi untuk tempat beli makanan online yang pilihan\n",
    "responden"
   ]
  },
  {
   "cell_type": "code",
   "execution_count": 34,
   "id": "c70f9af9-a143-4d52-b6c1-fa6eb4767829",
   "metadata": {},
   "outputs": [
    {
     "data": {
      "text/html": [
       "<div>\n",
       "<style scoped>\n",
       "    .dataframe tbody tr th:only-of-type {\n",
       "        vertical-align: middle;\n",
       "    }\n",
       "\n",
       "    .dataframe tbody tr th {\n",
       "        vertical-align: top;\n",
       "    }\n",
       "\n",
       "    .dataframe thead th {\n",
       "        text-align: right;\n",
       "    }\n",
       "</style>\n",
       "<table border=\"1\" class=\"dataframe\">\n",
       "  <thead>\n",
       "    <tr style=\"text-align: right;\">\n",
       "      <th></th>\n",
       "      <th>Frekuensi</th>\n",
       "      <th>Proporsi</th>\n",
       "    </tr>\n",
       "    <tr>\n",
       "      <th>Food Delivery</th>\n",
       "      <th></th>\n",
       "      <th></th>\n",
       "    </tr>\n",
       "  </thead>\n",
       "  <tbody>\n",
       "    <tr>\n",
       "      <th>GoFood</th>\n",
       "      <td>149</td>\n",
       "      <td>0.500000</td>\n",
       "    </tr>\n",
       "    <tr>\n",
       "      <th>ShopeeFood</th>\n",
       "      <td>69</td>\n",
       "      <td>0.231544</td>\n",
       "    </tr>\n",
       "    <tr>\n",
       "      <th>GrabFood</th>\n",
       "      <td>62</td>\n",
       "      <td>0.208054</td>\n",
       "    </tr>\n",
       "  </tbody>\n",
       "</table>\n",
       "</div>"
      ],
      "text/plain": [
       "               Frekuensi  Proporsi\n",
       "Food Delivery                     \n",
       "GoFood               149  0.500000\n",
       "ShopeeFood            69  0.231544\n",
       "GrabFood              62  0.208054"
      ]
     },
     "execution_count": 34,
     "metadata": {},
     "output_type": "execute_result"
    }
   ],
   "source": [
    "dfmakan = df.iloc[:,128]\n",
    "dfmakanan = dfmakan.loc[(dfmakan.iloc[0:len(df)] == 'ShopeeFood') | (dfmakan.iloc[0:len(df)] == 'GoFood') | (dfmakan.iloc[0:len(df)] == 'GrabFood')]\n",
    "dmakan = dfmakanan.value_counts()\n",
    "dmakan_proporsi = (dfmakanan.value_counts()/len(df))\n",
    "dmakan_tabel = pd.concat([dmakan, dmakan_proporsi], axis = 1)\n",
    "dmakan_tabel.columns = ['Frekuensi', 'Proporsi']\n",
    "dmakan_tabel.index.name = \"Food Delivery\"\n",
    "dmakan_tabel "
   ]
  },
  {
   "cell_type": "markdown",
   "id": "be33b4e0-c2e3-4d39-9610-67490b720486",
   "metadata": {},
   "source": [
    "# NOMOR 29\n",
    "Lakukan One Way ANOVA Test berikut:\n",
    "H0: Mean umur pengguna gofood = mean umur pengguna grabfood = mean umur\n",
    "pengguna shopeefood\n",
    "H1: Setidaknya ada dua grup yang memiliki mean umur yang berbeda\n",
    "\n",
    "alpha: 5%"
   ]
  },
  {
   "cell_type": "code",
   "execution_count": 35,
   "id": "acc29602-6b11-4493-94b5-96616601cfef",
   "metadata": {},
   "outputs": [
    {
     "name": "stdout",
     "output_type": "stream",
     "text": [
      "                df        sum_sq      mean_sq         F    PR(>F)\n",
      "C(Delivery)    2.0   3395.737566  1697.868783  9.929029  0.000069\n",
      "Residual     276.0  47196.133402   171.000483       NaN       NaN\n",
      " \n",
      "Crit Region: f > 3.028484828906624\n",
      " \n",
      "Kesimpulan : f didalam critical region, H0 ditolak \n",
      " \n",
      "pvalue = 6.853995529365609e-05\n"
     ]
    }
   ],
   "source": [
    "dfmakan = df.iloc[:,128]\n",
    "dfmakanan = df.loc[(dfmakan.iloc[0:len(df)] == 'ShopeeFood') | (dfmakan.iloc[0:len(df)] == 'GoFood') | (dfmakan.iloc[0:len(df)] == 'GrabFood')]\n",
    "dfmakanan = dfmakanan.rename(columns={'50. Apakah Anda pernah menggunakan layanan Food Delivery (pembelian makanan/ minuman secara online )? Jika Pernah, mohon sebutkan layanan yang PALING sering Anda gunakan?': 'Delivery'})\n",
    "#tabel_anova\n",
    "mod = ols('Usia ~ C(Delivery)', data = dfmakanan).fit()\n",
    "tabel = sm.stats.anova_lm(mod, typ=1)\n",
    "print(tabel)\n",
    "print(\" \")\n",
    "\n",
    "#identifikasi crit region\n",
    "f_alpha = st.f.ppf(0.95, dfn = 2, dfd = 276)\n",
    "print(f'Crit Region: f > {f_alpha}')\n",
    "\n",
    "#print kesimpulan\n",
    "print(\" \")\n",
    "print(\"Kesimpulan : f didalam critical region, H0 ditolak \")\n",
    "\n",
    "#pvalue\n",
    "pvalue = 1 - st.f.cdf(9.929029, 2, 276)\n",
    "print(\" \")\n",
    "print(\"pvalue =\", pvalue)"
   ]
  },
  {
   "cell_type": "markdown",
   "id": "e353f818-a23b-4e4b-bede-49386f95890f",
   "metadata": {},
   "source": [
    "# NOMOR 30\n",
    "Tuliskan minimal 5 insights/pelajaran dari hasil pengolahan data responden"
   ]
  },
  {
   "cell_type": "code",
   "execution_count": 37,
   "id": "c919fbfa-e655-4caf-804f-c2ec4e463ed8",
   "metadata": {},
   "outputs": [
    {
     "name": "stdout",
     "output_type": "stream",
     "text": [
      "Berdasarkan pengolahan data yang telah dilakukan : \n",
      "1. Aktivitas online responden pada tiga bulan terakhir meningkat \n",
      "2. Bank yang paling banyak digunakan oleh responden adalah Bank BCA\n",
      "3. Mayoritas responden menggunaknan mobile banking dalam kegiatan transfer antar bank\n",
      "4. Emoney yang paling banyak digunakan adalah gopay sedangkan yang paling sedikit digunakan adalah linkaja\n",
      "5. E-commerce yang menduduki peringkat paling atas dalam banyak responden yang memakai adalah shopee\n",
      "6. Dalam pembelian handphone responden lebih memilih untuk datang ke toko fisik\n",
      "7. Go-foof menjadi layanan food delivery yang paling banyak digunakan oleh responden\n",
      "\n"
     ]
    }
   ],
   "source": [
    "print(\n",
    "    \"Berdasarkan pengolahan data yang telah dilakukan : \\n\"\n",
    "    \"1. Aktivitas online responden pada tiga bulan terakhir meningkat \\n\"\n",
    "    \"2. Bank yang paling banyak digunakan oleh responden adalah Bank BCA\\n\"\n",
    "    \"3. Mayoritas responden menggunaknan mobile banking dalam kegiatan transfer antar bank\\n\"\n",
    "    \"4. Emoney yang paling banyak digunakan adalah gopay sedangkan yang paling sedikit digunakan adalah linkaja\\n\"\n",
    "    \"5. E-commerce yang menduduki peringkat paling atas dalam banyak responden yang memakai adalah shopee\\n\"\n",
    "    \"6. Dalam pembelian handphone responden lebih memilih untuk datang ke toko fisik\\n\"\n",
    "    \"7. Go-foof menjadi layanan food delivery yang paling banyak digunakan oleh responden\\n\"\n",
    ")"
   ]
  }
 ],
 "metadata": {
  "kernelspec": {
   "display_name": "Python 3 (ipykernel)",
   "language": "python",
   "name": "python3"
  },
  "language_info": {
   "codemirror_mode": {
    "name": "ipython",
    "version": 3
   },
   "file_extension": ".py",
   "mimetype": "text/x-python",
   "name": "python",
   "nbconvert_exporter": "python",
   "pygments_lexer": "ipython3",
   "version": "3.9.12"
  }
 },
 "nbformat": 4,
 "nbformat_minor": 5
}
